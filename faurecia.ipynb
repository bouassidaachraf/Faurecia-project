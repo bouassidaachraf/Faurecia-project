{
 "cells": [
  {
   "cell_type": "raw",
   "metadata": {},
   "source": [
    "The aim of the project is to write a functional and structured code in python. This code should be able to make a prediction on the dataset Auto Insurance available on https://www.kaggle.com/c/auto-insurance-fall-2017/data of target TARGET_FLAG. This code should also explicitly return the value of the performance of the algorithms tested using the appropriate metric and generate a csv file with the predictions.\n",
    "\n",
    "Performance is not the main goal. The objective of the project is to write the main steps of a data-science project with a proper style and well written comments."
   ]
  },
  {
   "cell_type": "code",
   "execution_count": null,
   "metadata": {},
   "outputs": [],
   "source": [
    "import numpy as np\n",
    "import matplotlib.pyplot as plt\n",
    "import matplotlib.pyplot as plt\n",
    "import pandas as pd \n",
    "from sklearn.preprocessing import LabelEncoder, OneHotEncoder , StandardScaler\n",
    "from decimal import Decimal\n",
    "from re import sub\n",
    "from sklearn.model_selection import train_test_split\n",
    "from sklearn.neighbors import KNeighborsClassifier\n",
    "from sklearn.tree import DecisionTreeClassifier\n",
    "from sklearn import svm\n",
    "from sklearn import metrics\n",
    "import keras\n",
    "from keras.models import Sequential\n",
    "from keras.layers import Dense\n"
   ]
  },
  {
   "cell_type": "code",
   "execution_count": 37,
   "metadata": {},
   "outputs": [],
   "source": [
    "#Importing the data set \n",
    "datasetTrain = pd.read_csv('/home/achraf/Bureau/faurecia/train_auto.csv')"
   ]
  },
  {
   "cell_type": "code",
   "execution_count": 38,
   "metadata": {},
   "outputs": [
    {
     "data": {
      "text/plain": [
       "0    6008\n",
       "1    2153\n",
       "Name: TARGET_FLAG, dtype: int64"
      ]
     },
     "execution_count": 38,
     "metadata": {},
     "output_type": "execute_result"
    }
   ],
   "source": [
    "datasetTrain['TARGET_FLAG'].value_counts()"
   ]
  },
  {
   "cell_type": "code",
   "execution_count": 39,
   "metadata": {},
   "outputs": [
    {
     "data": {
      "text/plain": [
       "0    7180\n",
       "1     636\n",
       "2     279\n",
       "3      62\n",
       "4       4\n",
       "Name: KIDSDRIV, dtype: int64"
      ]
     },
     "execution_count": 39,
     "metadata": {},
     "output_type": "execute_result"
    }
   ],
   "source": [
    "datasetTrain['KIDSDRIV'].value_counts()"
   ]
  },
  {
   "cell_type": "code",
   "execution_count": 40,
   "metadata": {},
   "outputs": [
    {
     "data": {
      "text/plain": [
       "z_Blue Collar    1825\n",
       "Clerical         1271\n",
       "Professional     1117\n",
       "Manager           988\n",
       "Lawyer            835\n",
       "Student           712\n",
       "Home Maker        641\n",
       "Doctor            246\n",
       "Name: JOB, dtype: int64"
      ]
     },
     "execution_count": 40,
     "metadata": {},
     "output_type": "execute_result"
    }
   ],
   "source": [
    "datasetTrain['JOB'].value_counts()"
   ]
  },
  {
   "cell_type": "code",
   "execution_count": 41,
   "metadata": {},
   "outputs": [
    {
     "data": {
      "text/plain": [
       "Highly Urban/ Urban      6492\n",
       "z_Highly Rural/ Rural    1669\n",
       "Name: URBANICITY, dtype: int64"
      ]
     },
     "execution_count": 41,
     "metadata": {},
     "output_type": "execute_result"
    }
   ],
   "source": [
    "datasetTrain['URBANICITY'].value_counts()"
   ]
  },
  {
   "cell_type": "code",
   "execution_count": 42,
   "metadata": {},
   "outputs": [
    {
     "data": {
      "image/png": "[encoded data removed]",
      "text/plain": [
       "<Figure size 1080x216 with 2 Axes>"
      ]
     },
     "metadata": {
      "needs_background": "light"
     },
     "output_type": "display_data"
    }
   ],
   "source": [
    "import seaborn as sns\n",
    "\n",
    "g = sns.FacetGrid(datasetTrain, col=\"SEX\", hue=\"TARGET_FLAG\", palette=\"Set1\", col_wrap=5)\n",
    "g.map(plt.hist, 'JOB', ec=\"k\")\n",
    "\n",
    "g.axes[-1].legend()\n",
    "plt.show()"
   ]
  },
  {
   "cell_type": "code",
   "execution_count": 43,
   "metadata": {},
   "outputs": [
    {
     "data": {
      "image/png": "[encoded data removed]",
      "text/plain": [
       "<Figure size 432x216 with 2 Axes>"
      ]
     },
     "metadata": {
      "needs_background": "light"
     },
     "output_type": "display_data"
    }
   ],
   "source": [
    "import seaborn as sns\n",
    "\n",
    "bins = np.linspace(datasetTrain.AGE.min(), datasetTrain.AGE.max(), 10)\n",
    "g = sns.FacetGrid(datasetTrain, col=\"SEX\", hue=\"TARGET_FLAG\", palette=\"Set1\", col_wrap=2)\n",
    "g.map(plt.hist, 'AGE', bins=bins, ec=\"k\")\n",
    "\n",
    "g.axes[-1].legend()\n",
    "plt.show()"
   ]
  },
  {
   "cell_type": "code",
   "execution_count": 44,
   "metadata": {},
   "outputs": [
    {
     "name": "stderr",
     "output_type": "stream",
     "text": [
      "/home/achraf/anaconda3/lib/python3.7/site-packages/sklearn/preprocessing/_encoders.py:415: FutureWarning: The handling of integer data will change in version 0.22. Currently, the categories are determined based on the range [0, max(values)], while in the future they will be determined based on the unique values.\n",
      "If you want the future behaviour and silence this warning, you can specify \"categories='auto'\".\n",
      "In case you used a LabelEncoder before this OneHotEncoder to convert the categories to integers, then you can now use the OneHotEncoder directly.\n",
      "  warnings.warn(msg, FutureWarning)\n",
      "/home/achraf/anaconda3/lib/python3.7/site-packages/sklearn/preprocessing/_encoders.py:451: DeprecationWarning: The 'categorical_features' keyword is deprecated in version 0.20 and will be removed in 0.22. You can use the ColumnTransformer instead.\n",
      "  \"use the ColumnTransformer instead.\", DeprecationWarning)\n"
     ]
    }
   ],
   "source": [
    "filtredDataset = datasetTrain[(datasetTrain.CAR_AGE >= 0)].dropna()\n",
    "del filtredDataset['RED_CAR']\n",
    "del filtredDataset['JOB']\n",
    "del filtredDataset['EDUCATION']\n",
    "\n",
    "filtredDataset['INCOME'] = filtredDataset['INCOME'].transform(lambda x : Decimal(sub(r'[^\\d.]', '' , x)))\n",
    "filtredDataset['HOME_VAL'] = filtredDataset['HOME_VAL'].transform(lambda x : Decimal(sub(r'[^\\d.]', '' , x)))\n",
    "filtredDataset['BLUEBOOK'] = filtredDataset['BLUEBOOK'].transform(lambda x : Decimal(sub(r'[^\\d.]', '' , x)))\n",
    "filtredDataset['OLDCLAIM'] = filtredDataset['OLDCLAIM'].transform(lambda x : Decimal(sub(r'[^\\d.]', '' , x)))\n",
    "\n",
    "x = filtredDataset.iloc[: , 3:24].values\n",
    "y = filtredDataset.iloc[: , 1].values\n",
    "\n",
    "\n",
    "carType = LabelEncoder()\n",
    "x[: , 13] = carType.fit_transform(x[: , 13])\n",
    "\n",
    "parent1 = LabelEncoder()\n",
    "x[: , 5] = parent1.fit_transform(x[: , 5])\n",
    "\n",
    "mstatus = LabelEncoder()\n",
    "x[: , 7] = mstatus.fit_transform(x[: , 7])\n",
    "\n",
    "sex = LabelEncoder()\n",
    "x[: , 8] = sex.fit_transform(x[: , 8])\n",
    "\n",
    "carUse = LabelEncoder()\n",
    "x[: , 10] = carUse.fit_transform(x[: , 10])\n",
    "\n",
    "revoked = LabelEncoder()\n",
    "x[: , 16] = revoked.fit_transform(x[: , 16])\n",
    "\n",
    "urbanicity = LabelEncoder()\n",
    "x[: , 19] = urbanicity.fit_transform(x[: , 19])\n",
    "\n",
    "oneHotEncoder = OneHotEncoder(categorical_features=[13])\n",
    "\n",
    "x = oneHotEncoder.fit_transform(x).toarray()\n",
    "x = np.delete(x , 0 , 1)"
   ]
  },
  {
   "cell_type": "code",
   "execution_count": 45,
   "metadata": {},
   "outputs": [],
   "source": [
    "X_train, X_test, y_train, y_test = train_test_split( x, y, test_size=0.2, random_state=4)\n",
    "sc = StandardScaler()\n",
    "X_train = sc.fit_transform(X_train)\n",
    "X_test = sc.transform(X_test)\n"
   ]
  },
  {
   "cell_type": "code",
   "execution_count": 46,
   "metadata": {},
   "outputs": [
    {
     "data": {
      "image/png": "[encoded data removed]",
      "text/plain": [
       "<Figure size 432x288 with 1 Axes>"
      ]
     },
     "metadata": {
      "needs_background": "light"
     },
     "output_type": "display_data"
    }
   ],
   "source": [
    "mean_acc=np.zeros(100)\n",
    "std_acc = np.zeros(100)\n",
    "for n in range(1,101):\n",
    "    knnmodel=KNeighborsClassifier(n_neighbors=n).fit(X_train,y_train)\n",
    "    y_pred=knnmodel.predict(X_test)\n",
    "    mean_acc[n-1]=metrics.accuracy_score(y_test,y_pred)\n",
    "    std_acc[n-1]=np.std(y_pred==y_test)/np.sqrt(y_pred.shape[0])\n",
    "    \n",
    "plt.plot(range(1,101),mean_acc,'g')\n",
    "plt.fill_between(range(1,101),mean_acc - 1 * std_acc,mean_acc + 1 * std_acc, alpha=0.10)\n",
    "plt.legend(('Accuracy ', '+/- 3xstd'))\n",
    "plt.ylabel('Accuracy ')\n",
    "plt.xlabel('Number of Nabors (K)')\n",
    "plt.tight_layout()\n",
    "plt.show()"
   ]
  },
  {
   "cell_type": "code",
   "execution_count": 47,
   "metadata": {},
   "outputs": [
    {
     "name": "stdout",
     "output_type": "stream",
     "text": [
      "The best accuracy was with 0.7849462365591398 with k= 17\n"
     ]
    }
   ],
   "source": [
    "print( \"The best accuracy was with\", mean_acc.max(), \"with k=\", mean_acc.argmax()+1)"
   ]
  },
  {
   "cell_type": "code",
   "execution_count": 48,
   "metadata": {},
   "outputs": [
    {
     "data": {
      "text/plain": [
       "0.7526881720430108"
      ]
     },
     "execution_count": 48,
     "metadata": {},
     "output_type": "execute_result"
    }
   ],
   "source": [
    "dtmodel = DecisionTreeClassifier(criterion=\"entropy\", max_depth = 4)\n",
    "dtmodel.fit(X_train,y_train)\n",
    "\n",
    "y_pred=dtmodel.predict(X_test)\n",
    "TreeAccuracy=metrics.accuracy_score(y_test,y_pred)\n",
    "TreeAccuracy"
   ]
  },
  {
   "cell_type": "code",
   "execution_count": 49,
   "metadata": {},
   "outputs": [
    {
     "data": {
      "text/plain": [
       "0.794044665012407"
      ]
     },
     "execution_count": 49,
     "metadata": {},
     "output_type": "execute_result"
    }
   ],
   "source": [
    "svmmodel=svm.SVC(kernel='rbf')\n",
    "svmmodel.fit(X_train,y_train)\n",
    "\n",
    "y_pred=svmmodel.predict(X_test)\n",
    "metrics.accuracy_score(y_test,y_pred)"
   ]
  },
  {
   "cell_type": "code",
   "execution_count": 51,
   "metadata": {},
   "outputs": [
    {
     "name": "stdout",
     "output_type": "stream",
     "text": [
      "WARNING:tensorflow:From /home/achraf/anaconda3/lib/python3.7/site-packages/keras/backend/tensorflow_backend.py:986: The name tf.assign_add is deprecated. Please use tf.compat.v1.assign_add instead.\n",
      "\n",
      "WARNING:tensorflow:From /home/achraf/anaconda3/lib/python3.7/site-packages/keras/backend/tensorflow_backend.py:973: The name tf.assign is deprecated. Please use tf.compat.v1.assign instead.\n",
      "\n",
      "WARNING:tensorflow:From /home/achraf/anaconda3/lib/python3.7/site-packages/keras/backend/tensorflow_backend.py:2741: The name tf.Session is deprecated. Please use tf.compat.v1.Session instead.\n",
      "\n",
      "Epoch 1/100\n",
      "WARNING:tensorflow:From /home/achraf/anaconda3/lib/python3.7/site-packages/keras/backend/tensorflow_backend.py:174: The name tf.get_default_session is deprecated. Please use tf.compat.v1.get_default_session instead.\n",
      "\n",
      "WARNING:tensorflow:From /home/achraf/anaconda3/lib/python3.7/site-packages/keras/backend/tensorflow_backend.py:181: The name tf.ConfigProto is deprecated. Please use tf.compat.v1.ConfigProto instead.\n",
      "\n",
      "WARNING:tensorflow:From /home/achraf/anaconda3/lib/python3.7/site-packages/keras/backend/tensorflow_backend.py:190: The name tf.global_variables is deprecated. Please use tf.compat.v1.global_variables instead.\n",
      "\n",
      "WARNING:tensorflow:From /home/achraf/anaconda3/lib/python3.7/site-packages/keras/backend/tensorflow_backend.py:199: The name tf.is_variable_initialized is deprecated. Please use tf.compat.v1.is_variable_initialized instead.\n",
      "\n",
      "WARNING:tensorflow:From /home/achraf/anaconda3/lib/python3.7/site-packages/keras/backend/tensorflow_backend.py:206: The name tf.variables_initializer is deprecated. Please use tf.compat.v1.variables_initializer instead.\n",
      "\n",
      "4835/4835 [==============================] - 3s 710us/step - loss: 0.5348 - acc: 0.7373\n",
      "Epoch 2/100\n",
      "4835/4835 [==============================] - 1s 247us/step - loss: 0.4592 - acc: 0.7822\n",
      "Epoch 3/100\n",
      "4835/4835 [==============================] - 1s 261us/step - loss: 0.4481 - acc: 0.7911\n",
      "Epoch 4/100\n",
      "4835/4835 [==============================] - 1s 237us/step - loss: 0.4440 - acc: 0.7921\n",
      "Epoch 5/100\n",
      "4835/4835 [==============================] - 1s 238us/step - loss: 0.4411 - acc: 0.7928\n",
      "Epoch 6/100\n",
      "4835/4835 [==============================] - 1s 240us/step - loss: 0.4390 - acc: 0.7940\n",
      "Epoch 7/100\n",
      "4835/4835 [==============================] - 1s 254us/step - loss: 0.4370 - acc: 0.7944\n",
      "Epoch 8/100\n",
      "4835/4835 [==============================] - 1s 137us/step - loss: 0.4360 - acc: 0.7932\n",
      "Epoch 9/100\n",
      "4835/4835 [==============================] - 1s 133us/step - loss: 0.4350 - acc: 0.7942\n",
      "Epoch 10/100\n",
      "4835/4835 [==============================] - 1s 131us/step - loss: 0.4335 - acc: 0.7959\n",
      "Epoch 11/100\n",
      "4835/4835 [==============================] - 1s 131us/step - loss: 0.4330 - acc: 0.7950\n",
      "Epoch 12/100\n",
      "4835/4835 [==============================] - 1s 131us/step - loss: 0.4323 - acc: 0.7950\n",
      "Epoch 13/100\n",
      "4835/4835 [==============================] - 1s 130us/step - loss: 0.4313 - acc: 0.8000\n",
      "Epoch 14/100\n",
      "4835/4835 [==============================] - 1s 141us/step - loss: 0.4313 - acc: 0.7998\n",
      "Epoch 15/100\n",
      "4835/4835 [==============================] - 1s 187us/step - loss: 0.4302 - acc: 0.7983\n",
      "Epoch 16/100\n",
      "4835/4835 [==============================] - 1s 177us/step - loss: 0.4294 - acc: 0.7965\n",
      "Epoch 17/100\n",
      "4835/4835 [==============================] - 1s 135us/step - loss: 0.4293 - acc: 0.7996\n",
      "Epoch 18/100\n",
      "4835/4835 [==============================] - 1s 130us/step - loss: 0.4286 - acc: 0.8000\n",
      "Epoch 19/100\n",
      "4835/4835 [==============================] - 1s 133us/step - loss: 0.4271 - acc: 0.7981\n",
      "Epoch 20/100\n",
      "4835/4835 [==============================] - 1s 133us/step - loss: 0.4269 - acc: 0.8008\n",
      "Epoch 21/100\n",
      "4835/4835 [==============================] - 1s 133us/step - loss: 0.4263 - acc: 0.7994\n",
      "Epoch 22/100\n",
      "4835/4835 [==============================] - 1s 156us/step - loss: 0.4261 - acc: 0.7998\n",
      "Epoch 23/100\n",
      "4835/4835 [==============================] - 1s 141us/step - loss: 0.4253 - acc: 0.8008\n",
      "Epoch 24/100\n",
      "4835/4835 [==============================] - 1s 131us/step - loss: 0.4246 - acc: 0.7998\n",
      "Epoch 25/100\n",
      "4835/4835 [==============================] - 1s 131us/step - loss: 0.4248 - acc: 0.8006\n",
      "Epoch 26/100\n",
      "4835/4835 [==============================] - 1s 132us/step - loss: 0.4238 - acc: 0.8002\n",
      "Epoch 27/100\n",
      "4835/4835 [==============================] - 1s 153us/step - loss: 0.4234 - acc: 0.8017\n",
      "Epoch 28/100\n",
      "4835/4835 [==============================] - 1s 130us/step - loss: 0.4232 - acc: 0.8012\n",
      "Epoch 29/100\n",
      "4835/4835 [==============================] - 1s 132us/step - loss: 0.4222 - acc: 0.8023\n",
      "Epoch 30/100\n",
      "4835/4835 [==============================] - 1s 133us/step - loss: 0.4227 - acc: 0.8027\n",
      "Epoch 31/100\n",
      "4835/4835 [==============================] - 1s 133us/step - loss: 0.4226 - acc: 0.8002\n",
      "Epoch 32/100\n",
      "4835/4835 [==============================] - 1s 131us/step - loss: 0.4210 - acc: 0.7988\n",
      "Epoch 33/100\n",
      "4835/4835 [==============================] - 1s 134us/step - loss: 0.4218 - acc: 0.7998\n",
      "Epoch 34/100\n",
      "4835/4835 [==============================] - 1s 135us/step - loss: 0.4209 - acc: 0.8039\n",
      "Epoch 35/100\n",
      "4835/4835 [==============================] - 1s 174us/step - loss: 0.4201 - acc: 0.8006\n",
      "Epoch 36/100\n",
      "4835/4835 [==============================] - 1s 133us/step - loss: 0.4201 - acc: 0.8019\n",
      "Epoch 37/100\n",
      "4835/4835 [==============================] - 1s 134us/step - loss: 0.4194 - acc: 0.8019\n",
      "Epoch 38/100\n",
      "4835/4835 [==============================] - 1s 140us/step - loss: 0.4186 - acc: 0.8052\n",
      "Epoch 39/100\n",
      "4835/4835 [==============================] - 1s 134us/step - loss: 0.4191 - acc: 0.7994\n",
      "Epoch 40/100\n",
      "4835/4835 [==============================] - 1s 133us/step - loss: 0.4188 - acc: 0.8012\n",
      "Epoch 41/100\n",
      "4835/4835 [==============================] - 1s 135us/step - loss: 0.4179 - acc: 0.8046\n",
      "Epoch 42/100\n",
      "4835/4835 [==============================] - 1s 142us/step - loss: 0.4173 - acc: 0.8025\n",
      "Epoch 43/100\n",
      "4835/4835 [==============================] - 1s 144us/step - loss: 0.4174 - acc: 0.8029\n",
      "Epoch 44/100\n",
      "4835/4835 [==============================] - 1s 155us/step - loss: 0.4165 - acc: 0.8029\n",
      "Epoch 45/100\n",
      "4835/4835 [==============================] - 1s 153us/step - loss: 0.4169 - acc: 0.8012\n",
      "Epoch 46/100\n",
      "4835/4835 [==============================] - 1s 161us/step - loss: 0.4165 - acc: 0.8012\n",
      "Epoch 47/100\n",
      "4835/4835 [==============================] - 1s 135us/step - loss: 0.4157 - acc: 0.8054\n",
      "Epoch 48/100\n",
      "4835/4835 [==============================] - 1s 140us/step - loss: 0.4153 - acc: 0.8046\n",
      "Epoch 49/100\n",
      "4835/4835 [==============================] - 1s 142us/step - loss: 0.4155 - acc: 0.8048\n",
      "Epoch 50/100\n",
      "4835/4835 [==============================] - 1s 151us/step - loss: 0.4147 - acc: 0.8017\n",
      "Epoch 51/100\n",
      "4835/4835 [==============================] - 1s 143us/step - loss: 0.4146 - acc: 0.8048\n",
      "Epoch 52/100\n",
      "4835/4835 [==============================] - 1s 136us/step - loss: 0.4140 - acc: 0.8056\n",
      "Epoch 53/100\n",
      "4835/4835 [==============================] - 1s 141us/step - loss: 0.4142 - acc: 0.8089\n",
      "Epoch 54/100\n",
      "4835/4835 [==============================] - 1s 149us/step - loss: 0.4138 - acc: 0.8060\n",
      "Epoch 55/100\n",
      "4835/4835 [==============================] - 1s 143us/step - loss: 0.4130 - acc: 0.8085\n",
      "Epoch 56/100\n",
      "4835/4835 [==============================] - 1s 149us/step - loss: 0.4123 - acc: 0.8041\n",
      "Epoch 57/100\n",
      "4835/4835 [==============================] - 1s 149us/step - loss: 0.4122 - acc: 0.8031\n",
      "Epoch 58/100\n",
      "4835/4835 [==============================] - 1s 155us/step - loss: 0.4123 - acc: 0.8052\n",
      "Epoch 59/100\n",
      "4835/4835 [==============================] - 1s 142us/step - loss: 0.4115 - acc: 0.8074\n",
      "Epoch 60/100\n",
      "4835/4835 [==============================] - 1s 140us/step - loss: 0.4114 - acc: 0.8058\n",
      "Epoch 61/100\n",
      "4835/4835 [==============================] - 1s 164us/step - loss: 0.4121 - acc: 0.8037\n",
      "Epoch 62/100\n",
      "4835/4835 [==============================] - 1s 176us/step - loss: 0.4106 - acc: 0.8081\n",
      "Epoch 63/100\n",
      "4835/4835 [==============================] - 1s 166us/step - loss: 0.4106 - acc: 0.8070\n",
      "Epoch 64/100\n",
      "4835/4835 [==============================] - 1s 200us/step - loss: 0.4097 - acc: 0.8077\n",
      "Epoch 65/100\n",
      "4835/4835 [==============================] - 1s 149us/step - loss: 0.4100 - acc: 0.8093\n",
      "Epoch 66/100\n",
      "4835/4835 [==============================] - 1s 189us/step - loss: 0.4096 - acc: 0.8058\n",
      "Epoch 67/100\n",
      "4835/4835 [==============================] - 1s 139us/step - loss: 0.4092 - acc: 0.8087\n",
      "Epoch 68/100\n",
      "4835/4835 [==============================] - 1s 163us/step - loss: 0.4097 - acc: 0.8066\n",
      "Epoch 69/100\n",
      "4835/4835 [==============================] - 1s 213us/step - loss: 0.4085 - acc: 0.8089\n",
      "Epoch 70/100\n",
      "4835/4835 [==============================] - 1s 171us/step - loss: 0.4089 - acc: 0.8079\n",
      "Epoch 71/100\n",
      "4835/4835 [==============================] - 1s 166us/step - loss: 0.4082 - acc: 0.8072\n",
      "Epoch 72/100\n",
      "4835/4835 [==============================] - 1s 239us/step - loss: 0.4086 - acc: 0.8089\n",
      "Epoch 73/100\n",
      "4835/4835 [==============================] - 1s 212us/step - loss: 0.4085 - acc: 0.8079\n",
      "Epoch 74/100\n",
      "4835/4835 [==============================] - 1s 181us/step - loss: 0.4075 - acc: 0.8101\n",
      "Epoch 75/100\n",
      "4835/4835 [==============================] - 1s 181us/step - loss: 0.4073 - acc: 0.8077\n",
      "Epoch 76/100\n",
      "4835/4835 [==============================] - 1s 193us/step - loss: 0.4071 - acc: 0.8066\n",
      "Epoch 77/100\n",
      "4835/4835 [==============================] - 1s 176us/step - loss: 0.4060 - acc: 0.8097\n",
      "Epoch 78/100\n",
      "4835/4835 [==============================] - 1s 161us/step - loss: 0.4067 - acc: 0.8097\n",
      "Epoch 79/100\n",
      "4835/4835 [==============================] - 1s 126us/step - loss: 0.4054 - acc: 0.8099\n",
      "Epoch 80/100\n",
      "4835/4835 [==============================] - 1s 123us/step - loss: 0.4062 - acc: 0.8103\n",
      "Epoch 81/100\n",
      "4835/4835 [==============================] - 1s 123us/step - loss: 0.4053 - acc: 0.8099\n",
      "Epoch 82/100\n",
      "4835/4835 [==============================] - 1s 120us/step - loss: 0.4052 - acc: 0.8126\n",
      "Epoch 83/100\n",
      "4835/4835 [==============================] - 1s 124us/step - loss: 0.4051 - acc: 0.8110\n",
      "Epoch 84/100\n",
      "4835/4835 [==============================] - 1s 123us/step - loss: 0.4036 - acc: 0.8126\n",
      "Epoch 85/100\n",
      "4835/4835 [==============================] - 1s 123us/step - loss: 0.4030 - acc: 0.8128\n",
      "Epoch 86/100\n",
      "4835/4835 [==============================] - 1s 230us/step - loss: 0.4037 - acc: 0.8085\n",
      "Epoch 87/100\n",
      "4835/4835 [==============================] - 1s 189us/step - loss: 0.4032 - acc: 0.8124\n",
      "Epoch 88/100\n",
      "4835/4835 [==============================] - 1s 219us/step - loss: 0.4027 - acc: 0.8114\n",
      "Epoch 89/100\n",
      "4835/4835 [==============================] - 1s 175us/step - loss: 0.4023 - acc: 0.8099\n",
      "Epoch 90/100\n",
      "4835/4835 [==============================] - 1s 148us/step - loss: 0.4013 - acc: 0.8116\n",
      "Epoch 91/100\n",
      "4835/4835 [==============================] - 1s 131us/step - loss: 0.4023 - acc: 0.8101\n",
      "Epoch 92/100\n",
      "4835/4835 [==============================] - 1s 193us/step - loss: 0.4021 - acc: 0.8139\n",
      "Epoch 93/100\n",
      "4835/4835 [==============================] - 1s 154us/step - loss: 0.4001 - acc: 0.8116\n",
      "Epoch 94/100\n",
      "4835/4835 [==============================] - 1s 132us/step - loss: 0.4004 - acc: 0.8147\n",
      "Epoch 95/100\n",
      "4835/4835 [==============================] - 1s 128us/step - loss: 0.4006 - acc: 0.8134\n",
      "Epoch 96/100\n",
      "4835/4835 [==============================] - 1s 129us/step - loss: 0.4006 - acc: 0.8139\n",
      "Epoch 97/100\n",
      "4835/4835 [==============================] - 1s 171us/step - loss: 0.3998 - acc: 0.8139\n",
      "Epoch 98/100\n",
      "4835/4835 [==============================] - 1s 157us/step - loss: 0.3983 - acc: 0.8155\n",
      "Epoch 99/100\n",
      "4835/4835 [==============================] - 1s 137us/step - loss: 0.3992 - acc: 0.8143\n",
      "Epoch 100/100\n",
      "4835/4835 [==============================] - 1s 130us/step - loss: 0.3982 - acc: 0.8161\n"
     ]
    },
    {
     "data": {
      "text/plain": [
       "<keras.callbacks.History at 0x7fb9ededbd10>"
      ]
     },
     "execution_count": 51,
     "metadata": {},
     "output_type": "execute_result"
    }
   ],
   "source": [
    "# Initialising the ANN\n",
    "classifier = Sequential()\n",
    "# Adding the input layer and the first hidden layer\n",
    "classifier.add(Dense(units = 13, kernel_initializer = 'uniform', activation = 'relu', input_dim = 24))\n",
    "# Adding the second hidden layer\n",
    "classifier.add(Dense(units = 6, kernel_initializer = 'uniform', activation = 'relu'))\n",
    "# Adding the output layer\n",
    "classifier.add(Dense(units = 1, kernel_initializer = 'uniform', activation = 'sigmoid'))\n",
    "# Compiling the ANN\n",
    "classifier.compile(optimizer = 'adam', loss = 'binary_crossentropy', metrics = ['accuracy'])\n",
    "# Fitting the ANN to the Training set\n",
    "classifier.fit(X_train, y_train, batch_size = 10, epochs = 100)\n"
   ]
  },
  {
   "cell_type": "code",
   "execution_count": 53,
   "metadata": {},
   "outputs": [
    {
     "data": {
      "text/plain": [
       "0.7700578990901572"
      ]
     },
     "execution_count": 53,
     "metadata": {},
     "output_type": "execute_result"
    }
   ],
   "source": [
    "y_pred = classifier.predict(X_test)\n",
    "for i in range(len(y_pred)):\n",
    "    if y_pred[i, 0] > 0.5:\n",
    "        y_pred[i, 0] = 1\n",
    "    else: \n",
    "        y_pred[i, 0] = 0\n",
    "metrics.accuracy_score(y_test,y_pred)"
   ]
  },
  {
   "cell_type": "code",
   "execution_count": null,
   "metadata": {},
   "outputs": [],
   "source": []
  }
 ],
 "metadata": {
  "celltoolbar": "Format de la Cellule Texte Brut",
  "kernelspec": {
   "display_name": "Python 3",
   "language": "python",
   "name": "python3"
  },
  "language_info": {
   "codemirror_mode": {
    "name": "ipython",
    "version": 3
   },
   "file_extension": ".py",
   "mimetype": "text/x-python",
   "name": "python",
   "nbconvert_exporter": "python",
   "pygments_lexer": "ipython3",
   "version": "3.7.4"
  }
 },
 "nbformat": 4,
 "nbformat_minor": 2
}
